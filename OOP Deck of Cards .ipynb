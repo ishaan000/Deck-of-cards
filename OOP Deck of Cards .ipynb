{
 "cells": [
  {
   "cell_type": "code",
   "execution_count": 5,
   "id": "c5b7f1f9",
   "metadata": {},
   "outputs": [
    {
     "data": {
      "text/plain": [
       "' Building blocks of OOPS\\nClasses: Classes are data types that the user specifies.\\n\\nObjects: Objects are representations of classes that have been generated with unique data.\\n\\nAttributes: The data that is recorded is referred to as attributes. The Class prototype defines the attributes. \\n\\nMethods: Methods are used to describe different types of behaviors.\\n'"
      ]
     },
     "execution_count": 5,
     "metadata": {},
     "output_type": "execute_result"
    }
   ],
   "source": [
    "\"\"\" Building blocks of OOPS\n",
    "Classes: Classes are data types that the user specifies.\n",
    "\n",
    "Objects: Objects are representations of classes that have been generated with unique data.\n",
    "\n",
    "Attributes: The data that is recorded is referred to as attributes. The Class prototype defines the attributes. \n",
    "\n",
    "Methods: Methods are used to describe different types of behaviors.\n",
    "\"\"\""
   ]
  },
  {
   "cell_type": "code",
   "execution_count": 2,
   "id": "86a63954",
   "metadata": {},
   "outputs": [],
   "source": [
    "class Card:\n",
    "    suits = ['Clubs' , 'Diamonds' , 'Hearts' , 'spades']\n",
    "    ranks =[\"2\",\"3\",\"4\",\"5\",\"6\",\"7\",\"8\",\"9\",\"10\",\"J\",\"K\",\"Q\",\"A\"]\n",
    "    def __init__(self,suit,rank): #The __init__ is a constructer function and it is called everytime an object\n",
    "        #is created from a class, it assigns variables to the instance variables(the ones with self) \n",
    "        self.suit = suit \n",
    "        self.rank = rank \n",
    "    def __str__(self): #This function is a built in to represent the class object as a string \n",
    "        return f\"{Card.ranks[self.rank]} of {Card.suits[self.suit]}\""
   ]
  },
  {
   "cell_type": "code",
   "execution_count": 3,
   "id": "2241f766",
   "metadata": {},
   "outputs": [
    {
     "name": "stdout",
     "output_type": "stream",
     "text": [
      "2 of Clubs\n"
     ]
    }
   ],
   "source": [
    "c1 = Card(0,0)\n",
    "print(c1)"
   ]
  },
  {
   "cell_type": "code",
   "execution_count": 4,
   "id": "1bccbf35",
   "metadata": {},
   "outputs": [],
   "source": [
    "import random \n",
    "class Deck:\n",
    "    def __init__(self):\n",
    "        self.deck = [] #initially an empty list \n",
    "        \n",
    "        for suit in range(4):\n",
    "            for rank in range(13):\n",
    "                self.deck.append(Card(suit,rank)) #adding cards from the list declared in class Cards, this is object reference \n",
    "        self.shuffle()\n",
    "    def __len__(self):\n",
    "        return len(self.deck)\n",
    "    def add_card(self,card):\n",
    "        self.deck.append(card)\n",
    "    def pop_card(self):\n",
    "        return self.deck.pop()\n",
    "    def shuffle(self):\n",
    "        random.shuffle(self.deck)"
   ]
  },
  {
   "cell_type": "code",
   "execution_count": 16,
   "id": "01487c33",
   "metadata": {},
   "outputs": [
    {
     "name": "stdout",
     "output_type": "stream",
     "text": [
      "K of Diamonds\n"
     ]
    }
   ],
   "source": [
    "deck = Deck()\n",
    "\n",
    "print(deck.pop_card())"
   ]
  },
  {
   "cell_type": "code",
   "execution_count": 21,
   "id": "10801367",
   "metadata": {},
   "outputs": [],
   "source": [
    "class Hand(Deck): #This is how inheritance is done in python \n",
    "    def __init__(self): #if we do not do this __init__ then it will take the init of the parent class\n",
    "        #and we do not want functionalities like shuffle in our hand so we do not do that\n",
    "        self.deck = [] \n",
    "        \n",
    "    def __str__(self):\n",
    "        return \"Player: \" + \" \".join([str(card) for card in self.deck]) #The join() method takes all items in an iterable and joins them into one string."
   ]
  },
  {
   "cell_type": "code",
   "execution_count": 22,
   "id": "f3e9edde",
   "metadata": {},
   "outputs": [
    {
     "name": "stdout",
     "output_type": "stream",
     "text": [
      "Player: 6 of Hearts 3 of Hearts 2 of Hearts\n"
     ]
    }
   ],
   "source": [
    "hand = Hand()\n",
    "hand.add_card(deck.pop_card())\n",
    "hand.add_card(deck.pop_card())\n",
    "hand.add_card(deck.pop_card())\n",
    "\n",
    "print(hand)"
   ]
  },
  {
   "cell_type": "markdown",
   "id": "adb6ad8d",
   "metadata": {},
   "source": []
  },
  {
   "cell_type": "code",
   "execution_count": null,
   "id": "a1aef976",
   "metadata": {},
   "outputs": [],
   "source": []
  }
 ],
 "metadata": {
  "kernelspec": {
   "display_name": "Python 3",
   "language": "python",
   "name": "python3"
  },
  "language_info": {
   "codemirror_mode": {
    "name": "ipython",
    "version": 3
   },
   "file_extension": ".py",
   "mimetype": "text/x-python",
   "name": "python",
   "nbconvert_exporter": "python",
   "pygments_lexer": "ipython3",
   "version": "3.8.8"
  }
 },
 "nbformat": 4,
 "nbformat_minor": 5
}
